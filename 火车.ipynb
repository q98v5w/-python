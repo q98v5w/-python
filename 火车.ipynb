{
 "cells": [
  {
   "cell_type": "code",
   "execution_count": 87,
   "metadata": {},
   "outputs": [
    {
     "name": "stdout",
     "output_type": "stream",
     "text": [
      "Using matplotlib backend: Qt5Agg\n"
     ]
    },
    {
     "data": {
      "text/plain": [
       "[<matplotlib.lines.Line2D at 0x1a1c0e48c50>]"
      ]
     },
     "execution_count": 87,
     "metadata": {},
     "output_type": "execute_result"
    }
   ],
   "source": [
    "%matplotlib\n",
    "import numpy as np\n",
    "import pandas as pd\n",
    "import matplotlib.pyplot as plt\n",
    "\n",
    "pg=pd.read_csv(r\"C:\\Users\\Double2\\Desktop\\dataanalysis\\train_passengers.csv\")\n",
    "pg['date']=pd.to_datetime(pg['date'])#获取时间\n",
    "#fig,ax=plt.subplots()\n",
    "plt.plot(pg.date,pg.number,color=\"red\",marker=\"o\",markerfacecolor=\"blue\")\n",
    "#ax.xaxis_date()"
   ]
  },
  {
   "cell_type": "code",
   "execution_count": 112,
   "metadata": {},
   "outputs": [
    {
     "data": {
      "text/plain": [
       "array([[1.        , 0.65072241],\n",
       "       [0.65072241, 1.        ]])"
      ]
     },
     "execution_count": 112,
     "metadata": {},
     "output_type": "execute_result"
    }
   ],
   "source": [
    "from sklearn.preprocessing import PolynomialFeatures\n",
    "from sklearn.linear_model import Ridge\n",
    "from sklearn.pipeline import make_pipeline\n",
    "pg[\"date\"]=pd.to_datetime(pg[\"date\"],unit='s')\n",
    "pg['stamp']=[t.value//10**8 for t in pg.date]\n",
    "model=make_pipeline(PolynomialFeatures(degree=9),Ridge())\n",
    "model.fit(pg.stamp[:,np.newaxis],pg['number'])\n",
    "pg_pred=model.predict(pg.stamp[:,np.newaxis])\n",
    "\n",
    "np.corrcoef(pg_pred,pg[\"number\"])"
   ]
  },
  {
   "cell_type": "code",
   "execution_count": 113,
   "metadata": {},
   "outputs": [
    {
     "data": {
      "text/plain": [
       "<matplotlib.legend.Legend at 0x1a1c5464390>"
      ]
     },
     "execution_count": 113,
     "metadata": {},
     "output_type": "execute_result"
    }
   ],
   "source": [
    "fig,ax=plt.subplots()\n",
    "ax.plot(pg.date,pg[\"number\"],color=\"red\",marker=\"o\",markerfacecolor=\"r\",label=\"passenager\")\n",
    "\n",
    "ax.plot(pg.date,pg_pred,color=\"b\",label=\"line of model\")\n",
    "ax.legend()"
   ]
  }
 ],
 "metadata": {
  "kernelspec": {
   "display_name": "Python 3",
   "language": "python",
   "name": "python3"
  },
  "language_info": {
   "codemirror_mode": {
    "name": "ipython",
    "version": 3
   },
   "file_extension": ".py",
   "mimetype": "text/x-python",
   "name": "python",
   "nbconvert_exporter": "python",
   "pygments_lexer": "ipython3",
   "version": "3.7.3"
  }
 },
 "nbformat": 4,
 "nbformat_minor": 2
}
